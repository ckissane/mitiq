{
 "cells": [
  {
   "cell_type": "code",
   "execution_count": 2,
   "id": "864bd8eb",
   "metadata": {},
   "outputs": [
    {
     "output_type": "stream",
     "name": "stderr",
     "text": [
      "/home/cole/miniconda3/envs/mitiq/lib/python3.9/site-packages/pyscf/lib/misc.py:46: H5pyDeprecationWarning: Using default_file_mode other than 'r' is deprecated. Pass the mode to h5py.File() instead.\n",
      "  h5py.get_config().default_file_mode = 'a'\n",
      "-1.857275030169912\n",
      "=== GROUND STATE ENERGY ===\n",
      " \n",
      "* Electronic ground state energy (Hartree): -1.85727503017\n",
      "  - computed part:      -1.85727503017\n",
      "~ Nuclear repulsion energy (Hartree): 0.719968994449\n",
      "> Total ground state energy (Hartree): -1.137306035721\n",
      " \n",
      "=== MEASURED OBSERVABLES ===\n",
      " \n",
      " \n",
      "=== DIPOLE MOMENTS ===\n",
      " \n",
      "~ Nuclear dipole moment (a.u.): [0.0  0.0  1.3889487]\n",
      " \n"
     ]
    }
   ],
   "source": [
    "from qiskit_nature.drivers import PySCFDriver, UnitsType\n",
    "from qiskit_nature.problems.second_quantization.electronic import ElectronicStructureProblem\n",
    "\n",
    "# Use PySCF, a classical computational chemistry software\n",
    "# package, to compute the one-body and two-body integrals in\n",
    "# electronic-orbital basis, necessary to form the Fermionic operator\n",
    "driver = PySCFDriver(atom='H .0 .0 .0; H .0 .0 0.735',\n",
    "                     unit=UnitsType.ANGSTROM,\n",
    "                     basis='sto3g')\n",
    "problem = ElectronicStructureProblem(driver)\n",
    "\n",
    "# generate the second-quantized operators\n",
    "second_q_ops = problem.second_q_ops()\n",
    "main_op = second_q_ops[0]\n",
    "\n",
    "num_particles = (problem.molecule_data_transformed.num_alpha,\n",
    "                 problem.molecule_data_transformed.num_beta)\n",
    "\n",
    "num_spin_orbitals = 2 * problem.molecule_data.num_molecular_orbitals\n",
    "\n",
    "# setup the classical optimizer for VQE\n",
    "from qiskit.algorithms.optimizers import L_BFGS_B\n",
    "\n",
    "optimizer = L_BFGS_B()\n",
    "\n",
    "# setup the mapper and qubit converter\n",
    "from qiskit_nature.mappers.second_quantization import ParityMapper\n",
    "from qiskit_nature.converters.second_quantization import QubitConverter\n",
    "\n",
    "mapper = ParityMapper()\n",
    "converter = QubitConverter(mapper=mapper, two_qubit_reduction=True)\n",
    "\n",
    "# map to qubit operators\n",
    "qubit_op = converter.convert(main_op, num_particles=num_particles)\n",
    "\n",
    "# setup the initial state for the ansatz\n",
    "from qiskit_nature.circuit.library import HartreeFock\n",
    "\n",
    "init_state = HartreeFock(num_spin_orbitals, num_particles, converter)\n",
    "\n",
    "# setup the ansatz for VQE\n",
    "from qiskit.circuit.library import TwoLocal\n",
    "\n",
    "ansatz = TwoLocal(num_spin_orbitals, ['ry', 'rz'], 'cz')\n",
    "\n",
    "# add the initial state\n",
    "ansatz.compose(init_state, front=True)\n",
    "\n",
    "# set the backend for the quantum computation\n",
    "from qiskit import Aer\n",
    "\n",
    "backend = Aer.get_backend('statevector_simulator')\n",
    "\n",
    "# setup and run VQE\n",
    "from qiskit.algorithms import VQE\n",
    "\n",
    "algorithm = VQE(ansatz,\n",
    "                optimizer=optimizer,\n",
    "                quantum_instance=backend)\n",
    "\n",
    "result = algorithm.compute_minimum_eigenvalue(qubit_op)\n",
    "print(result.eigenvalue.real)\n",
    "\n",
    "electronic_structure_result = problem.interpret(result)\n",
    "print(electronic_structure_result)\n"
   ]
  },
  {
   "cell_type": "code",
   "execution_count": null,
   "id": "69b6701b",
   "metadata": {},
   "outputs": [],
   "source": []
  },
  {
   "cell_type": "code",
   "execution_count": null,
   "id": "0e596b41",
   "metadata": {},
   "outputs": [],
   "source": []
  }
 ],
 "metadata": {
  "kernelspec": {
   "name": "python394jvsc74a57bd02725ae4f6e423a152ff4cac0a3d57790fb915ef0bfce6d2e7585eab65b94c3fe",
   "display_name": "Python 3.9.4 64-bit ('mitiq': conda)"
  },
  "language_info": {
   "codemirror_mode": {
    "name": "ipython",
    "version": 3
   },
   "file_extension": ".py",
   "mimetype": "text/x-python",
   "name": "python",
   "nbconvert_exporter": "python",
   "pygments_lexer": "ipython3",
   "version": "3.9.4"
  }
 },
 "nbformat": 4,
 "nbformat_minor": 5
}